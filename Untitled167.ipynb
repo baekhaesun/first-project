{
  "nbformat": 4,
  "nbformat_minor": 0,
  "metadata": {
    "colab": {
      "name": "Untitled167.ipynb",
      "provenance": [],
      "authorship_tag": "ABX9TyP0F04yV10l7CnQ6/qIPdyC",
      "include_colab_link": true
    },
    "kernelspec": {
      "name": "python3",
      "display_name": "Python 3"
    },
    "language_info": {
      "name": "python"
    }
  },
  "cells": [
    {
      "cell_type": "markdown",
      "metadata": {
        "id": "view-in-github",
        "colab_type": "text"
      },
      "source": [
        "<a href=\"https://colab.research.google.com/github/baekhaesun/first-project/blob/main/Untitled167.ipynb\" target=\"_parent\"><img src=\"https://colab.research.google.com/assets/colab-badge.svg\" alt=\"Open In Colab\"/></a>"
      ]
    },
    {
      "cell_type": "code",
      "execution_count": null,
      "metadata": {
        "id": "w4Tnwjc7ys6M"
      },
      "outputs": [],
      "source": [
        "print(\"Happy Programming~\")"
      ]
    },
    {
      "cell_type": "code",
      "source": [
        "30+50"
      ],
      "metadata": {
        "colab": {
          "base_uri": "https://localhost:8080/"
        },
        "id": "RUm7j-wKzdW3",
        "outputId": "65a733d7-0a04-4c78-b3ac-243c5aa543ac"
      },
      "execution_count": 1,
      "outputs": [
        {
          "output_type": "execute_result",
          "data": {
            "text/plain": [
              "80"
            ]
          },
          "metadata": {},
          "execution_count": 1
        }
      ]
    }
  ]
}